{
 "cells": [
  {
   "cell_type": "markdown",
   "id": "32a6ec99-fcfc-400b-a6dd-94201f0465f2",
   "metadata": {},
   "source": [
    "'''Series: It is mutable. You can modify the values of a Series after it has been created.'''\n",
    "    "
   ]
  },
  {
   "cell_type": "code",
   "execution_count": 1,
   "id": "6eeb648d-7fce-4e26-9626-c923d0d52119",
   "metadata": {},
   "outputs": [],
   "source": [
    "import pandas as pd\n",
    "series_data = pd.Series([1, 2, 3, 4], name='ColumnA')\n",
    "series_data[2] = 999  # Modifying the value at index 2"
   ]
  },
  {
   "cell_type": "markdown",
   "id": "8a047ef5-bc4c-4747-9e5c-4d0a248410cc",
   "metadata": {},
   "source": [
    "''' DataFrame: It is mutable. You can add, remove, or modify columns and rows in a DataFrame. '''"
   ]
  },
  {
   "cell_type": "code",
   "execution_count": 3,
   "id": "05cf4f78-6bc7-4abb-ab27-c10084d0c92f",
   "metadata": {},
   "outputs": [],
   "source": [
    "import pandas as pd\n",
    "data = {'ColumnA': [1, 2, 3, 4],\n",
    "        'ColumnB': ['A', 'B', 'C', 'D']}\n",
    "df = pd.DataFrame(data)\n",
    "df['NewColumn'] = [10, 20, 30, 40]  # Adding a new column"
   ]
  },
  {
   "cell_type": "code",
   "execution_count": null,
   "id": "3385babd-387d-425f-83bf-a7aae10d99cb",
   "metadata": {},
   "outputs": [],
   "source": []
  }
 ],
 "metadata": {
  "kernelspec": {
   "display_name": "Python 3 (ipykernel)",
   "language": "python",
   "name": "python3"
  },
  "language_info": {
   "codemirror_mode": {
    "name": "ipython",
    "version": 3
   },
   "file_extension": ".py",
   "mimetype": "text/x-python",
   "name": "python",
   "nbconvert_exporter": "python",
   "pygments_lexer": "ipython3",
   "version": "3.10.8"
  }
 },
 "nbformat": 4,
 "nbformat_minor": 5
}
