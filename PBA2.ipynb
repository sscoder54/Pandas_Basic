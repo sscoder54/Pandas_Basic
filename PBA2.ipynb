{
 "cells": [
  {
   "cell_type": "markdown",
   "id": "2920bc2c-9f79-4f2d-9a4d-c32bbcf8f6bc",
   "metadata": {},
   "source": [
    "# Create a variable of list type containing 10 elements in it, and apply pandas.Series function on the variable print it."
   ]
  },
  {
   "cell_type": "code",
   "execution_count": 1,
   "id": "c4558ec5-0f2b-4934-8a74-6c70bf3eeca7",
   "metadata": {},
   "outputs": [],
   "source": [
    "x = [1,2,3,5,7,11,13,17,19,23]"
   ]
  },
  {
   "cell_type": "code",
   "execution_count": 2,
   "id": "c436545f-ea79-461b-bec3-1c1dc075d9b5",
   "metadata": {},
   "outputs": [],
   "source": [
    "import pandas as pd\n",
    "s = pd.Series(x)"
   ]
  },
  {
   "cell_type": "code",
   "execution_count": 3,
   "id": "f7315591-ead5-42c4-93fe-7b879be80250",
   "metadata": {},
   "outputs": [
    {
     "name": "stdout",
     "output_type": "stream",
     "text": [
      "0     1\n",
      "1     2\n",
      "2     3\n",
      "3     5\n",
      "4     7\n",
      "5    11\n",
      "6    13\n",
      "7    17\n",
      "8    19\n",
      "9    23\n",
      "dtype: int64\n"
     ]
    }
   ],
   "source": [
    "print(s)"
   ]
  },
  {
   "cell_type": "code",
   "execution_count": null,
   "id": "401c144a-4695-4255-aec0-72896d244771",
   "metadata": {},
   "outputs": [],
   "source": []
  }
 ],
 "metadata": {
  "kernelspec": {
   "display_name": "Python 3 (ipykernel)",
   "language": "python",
   "name": "python3"
  },
  "language_info": {
   "codemirror_mode": {
    "name": "ipython",
    "version": 3
   },
   "file_extension": ".py",
   "mimetype": "text/x-python",
   "name": "python",
   "nbconvert_exporter": "python",
   "pygments_lexer": "ipython3",
   "version": "3.10.8"
  }
 },
 "nbformat": 4,
 "nbformat_minor": 5
}
