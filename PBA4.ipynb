{
 "cells": [
  {
   "cell_type": "markdown",
   "id": "5cedc366-9777-4700-8003-664acbf95a5e",
   "metadata": {},
   "source": [
    "''' Series is a one-dimensional labeled array that can hold any data type.\n",
    "Dataframe is a two-dimensional, tabular data structure with labeled axes (rows and columns). \n",
    "It is a container for multiple Series.\n",
    "'''"
   ]
  },
  {
   "cell_type": "code",
   "execution_count": 2,
   "id": "1b31fa5b-ebe5-48f7-8d65-921c3dc52985",
   "metadata": {},
   "outputs": [],
   "source": [
    "import pandas as pd\n",
    "series_data = pd.Series([1, 2, 3, 4], name='ColumnA')"
   ]
  },
  {
   "cell_type": "code",
   "execution_count": 3,
   "id": "2e06b25c-2983-4d27-812f-0ef6bfdc5591",
   "metadata": {},
   "outputs": [
    {
     "data": {
      "text/plain": [
       "0    1\n",
       "1    2\n",
       "2    3\n",
       "3    4\n",
       "Name: ColumnA, dtype: int64"
      ]
     },
     "execution_count": 3,
     "metadata": {},
     "output_type": "execute_result"
    }
   ],
   "source": [
    "series_data"
   ]
  },
  {
   "cell_type": "code",
   "execution_count": 4,
   "id": "6d2b47cf-1c28-4b18-aa8a-186fb827839c",
   "metadata": {},
   "outputs": [
    {
     "data": {
      "text/plain": [
       "pandas.core.series.Series"
      ]
     },
     "execution_count": 4,
     "metadata": {},
     "output_type": "execute_result"
    }
   ],
   "source": [
    "type(series_data)"
   ]
  },
  {
   "cell_type": "code",
   "execution_count": 6,
   "id": "e1036766-3522-44ed-852a-a5b4df8f1e3b",
   "metadata": {},
   "outputs": [],
   "source": [
    "data = {'ColumnA': [1, 2, 3, 4],\n",
    "        'ColumnB': ['A', 'B', 'C', 'D']}\n",
    "df = pd.DataFrame(data)"
   ]
  },
  {
   "cell_type": "code",
   "execution_count": 7,
   "id": "826eb3af-fbe3-4cfc-b34a-f63f14dd522a",
   "metadata": {},
   "outputs": [
    {
     "data": {
      "text/html": [
       "<div>\n",
       "<style scoped>\n",
       "    .dataframe tbody tr th:only-of-type {\n",
       "        vertical-align: middle;\n",
       "    }\n",
       "\n",
       "    .dataframe tbody tr th {\n",
       "        vertical-align: top;\n",
       "    }\n",
       "\n",
       "    .dataframe thead th {\n",
       "        text-align: right;\n",
       "    }\n",
       "</style>\n",
       "<table border=\"1\" class=\"dataframe\">\n",
       "  <thead>\n",
       "    <tr style=\"text-align: right;\">\n",
       "      <th></th>\n",
       "      <th>ColumnA</th>\n",
       "      <th>ColumnB</th>\n",
       "    </tr>\n",
       "  </thead>\n",
       "  <tbody>\n",
       "    <tr>\n",
       "      <th>0</th>\n",
       "      <td>1</td>\n",
       "      <td>A</td>\n",
       "    </tr>\n",
       "    <tr>\n",
       "      <th>1</th>\n",
       "      <td>2</td>\n",
       "      <td>B</td>\n",
       "    </tr>\n",
       "    <tr>\n",
       "      <th>2</th>\n",
       "      <td>3</td>\n",
       "      <td>C</td>\n",
       "    </tr>\n",
       "    <tr>\n",
       "      <th>3</th>\n",
       "      <td>4</td>\n",
       "      <td>D</td>\n",
       "    </tr>\n",
       "  </tbody>\n",
       "</table>\n",
       "</div>"
      ],
      "text/plain": [
       "   ColumnA ColumnB\n",
       "0        1       A\n",
       "1        2       B\n",
       "2        3       C\n",
       "3        4       D"
      ]
     },
     "execution_count": 7,
     "metadata": {},
     "output_type": "execute_result"
    }
   ],
   "source": [
    "df"
   ]
  },
  {
   "cell_type": "code",
   "execution_count": 8,
   "id": "cdb86670-32f5-480c-91f7-47fe0c818b80",
   "metadata": {},
   "outputs": [
    {
     "data": {
      "text/plain": [
       "pandas.core.frame.DataFrame"
      ]
     },
     "execution_count": 8,
     "metadata": {},
     "output_type": "execute_result"
    }
   ],
   "source": [
    "type(df)"
   ]
  },
  {
   "cell_type": "markdown",
   "id": "1b2d7ba3-c321-4c9e-8f0a-fe72affe08d6",
   "metadata": {},
   "source": [
    "'''\n",
    "Key differences:\n",
    "\n",
    "Dimensionality:\n",
    "\n",
    "Series is one-dimensional.\n",
    "DataFrame is two-dimensional.\n",
    "\n",
    "Representation:\n",
    "\n",
    "Series is a single column of data with an index.\n",
    "DataFrame is a tabular structure with multiple columns, where each column is a Series.\n",
    "'''"
   ]
  },
  {
   "cell_type": "code",
   "execution_count": null,
   "id": "e4be39b8-f57c-49ab-9b23-3ab9cb3367cb",
   "metadata": {},
   "outputs": [],
   "source": []
  }
 ],
 "metadata": {
  "kernelspec": {
   "display_name": "Python 3 (ipykernel)",
   "language": "python",
   "name": "python3"
  },
  "language_info": {
   "codemirror_mode": {
    "name": "ipython",
    "version": 3
   },
   "file_extension": ".py",
   "mimetype": "text/x-python",
   "name": "python",
   "nbconvert_exporter": "python",
   "pygments_lexer": "ipython3",
   "version": "3.10.8"
  }
 },
 "nbformat": 4,
 "nbformat_minor": 5
}
