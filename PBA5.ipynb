{
 "cells": [
  {
   "cell_type": "markdown",
   "id": "223408be-1acd-491b-a396-6701e870dade",
   "metadata": {},
   "source": [
    "'''Pandas provides a variety of functions to manipulate and analyze data in DataFrames. Here are some common functions:\n",
    "\n",
    "1. head() and tail(): Display the first or last N rows of a DataFrame.\n",
    "2. info(): Provides a concise summary of a DataFrame, including data types and missing values.\n",
    "3. describe(): Generates descriptive statistics (count, mean, std deviation, etc.) of numerical columns.\n",
    "4. shape: Returns the number of rows and columns in the DataFrame.\n",
    "5. columns: Returns the column labels of the DataFrame.\n",
    "6. df.loc[2:4, ['ColumnA', 'ColumnB']]\n",
    "7. drop(): Remove specified labels from rows or columns.\n",
    "8. sort_values(): Sort the DataFrame by specified column(s). '''\n"
   ]
  },
  {
   "cell_type": "code",
   "execution_count": 1,
   "id": "19eae120-c0f7-4b01-b19e-0fe85651d3ac",
   "metadata": {},
   "outputs": [
    {
     "name": "stdout",
     "output_type": "stream",
     "text": [
      "Head:\n",
      "      Name  Age  Salary\n",
      "0    Alice   25   50000\n",
      "1      Bob   30   60000\n",
      "2  Charlie   22   45000\n",
      "3    David   35   70000\n",
      "\n",
      "Info:\n",
      "<class 'pandas.core.frame.DataFrame'>\n",
      "RangeIndex: 4 entries, 0 to 3\n",
      "Data columns (total 3 columns):\n",
      " #   Column  Non-Null Count  Dtype \n",
      "---  ------  --------------  ----- \n",
      " 0   Name    4 non-null      object\n",
      " 1   Age     4 non-null      int64 \n",
      " 2   Salary  4 non-null      int64 \n",
      "dtypes: int64(2), object(1)\n",
      "memory usage: 224.0+ bytes\n",
      "None\n",
      "\n",
      "Describe:\n",
      "             Age        Salary\n",
      "count   4.000000      4.000000\n",
      "mean   28.000000  56250.000000\n",
      "std     5.715476  11086.778913\n",
      "min    22.000000  45000.000000\n",
      "25%    24.250000  48750.000000\n",
      "50%    27.500000  55000.000000\n",
      "75%    31.250000  62500.000000\n",
      "max    35.000000  70000.000000\n",
      "\n",
      "Shape:\n",
      "(4, 3)\n",
      "\n",
      "Columns:\n",
      "Index(['Name', 'Age', 'Salary'], dtype='object')\n",
      "\n",
      "DataFrame with Bonus:\n",
      "      Name  Age  Salary   Bonus\n",
      "0    Alice   25   50000  5000.0\n",
      "1      Bob   30   60000  6000.0\n",
      "2  Charlie   22   45000  4500.0\n",
      "3    David   35   70000  7000.0\n"
     ]
    }
   ],
   "source": [
    "import pandas as pd\n",
    "\n",
    "# Creating a sample DataFrame\n",
    "data = {'Name': ['Alice', 'Bob', 'Charlie', 'David'],\n",
    "        'Age': [25, 30, 22, 35],\n",
    "        'Salary': [50000, 60000, 45000, 70000]}\n",
    "df = pd.DataFrame(data)\n",
    "\n",
    "# Using some common functions\n",
    "print(\"Head:\")\n",
    "print(df.head())\n",
    "\n",
    "print(\"\\nInfo:\")\n",
    "print(df.info())\n",
    "\n",
    "print(\"\\nDescribe:\")\n",
    "print(df.describe())\n",
    "\n",
    "print(\"\\nShape:\")\n",
    "print(df.shape)\n",
    "\n",
    "print(\"\\nColumns:\")\n",
    "print(df.columns)\n",
    "\n",
    "# Adding a new column\n",
    "df['Bonus'] = df['Salary'] * 0.1\n",
    "\n",
    "print(\"\\nDataFrame with Bonus:\")\n",
    "print(df)"
   ]
  },
  {
   "cell_type": "code",
   "execution_count": null,
   "id": "96cab3e6-44c5-4cdb-a0f5-d3a3f8a6cffa",
   "metadata": {},
   "outputs": [],
   "source": []
  }
 ],
 "metadata": {
  "kernelspec": {
   "display_name": "Python 3 (ipykernel)",
   "language": "python",
   "name": "python3"
  },
  "language_info": {
   "codemirror_mode": {
    "name": "ipython",
    "version": 3
   },
   "file_extension": ".py",
   "mimetype": "text/x-python",
   "name": "python",
   "nbconvert_exporter": "python",
   "pygments_lexer": "ipython3",
   "version": "3.10.8"
  }
 },
 "nbformat": 4,
 "nbformat_minor": 5
}
